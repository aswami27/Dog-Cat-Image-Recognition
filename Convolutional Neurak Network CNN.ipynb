{
 "cells": [
  {
   "cell_type": "markdown",
   "id": "df8b13d4",
   "metadata": {},
   "source": [
    "# Convolutional neural network"
   ]
  },
  {
   "cell_type": "code",
   "execution_count": 1,
   "id": "6d0aba6c",
   "metadata": {},
   "outputs": [],
   "source": [
    "import tensorflow as tf\n",
    "from keras.preprocessing.image import ImageDataGenerator"
   ]
  },
  {
   "cell_type": "code",
   "execution_count": 2,
   "id": "2364eaaa",
   "metadata": {},
   "outputs": [
    {
     "data": {
      "text/plain": [
       "'2.11.0'"
      ]
     },
     "execution_count": 2,
     "metadata": {},
     "output_type": "execute_result"
    }
   ],
   "source": [
    "tf.__version__"
   ]
  },
  {
   "cell_type": "markdown",
   "id": "c55f5c5d",
   "metadata": {},
   "source": [
    "# data preprocessing in the training set only to avoid overfitting"
   ]
  },
  {
   "cell_type": "code",
   "execution_count": 3,
   "id": "9ae01feb",
   "metadata": {},
   "outputs": [
    {
     "name": "stdout",
     "output_type": "stream",
     "text": [
      "Found 8000 images belonging to 2 classes.\n"
     ]
    }
   ],
   "source": [
    "train_datagen = ImageDataGenerator(rescale = 1./255,\n",
    "                                   shear_range = 0.2,\n",
    "                                   zoom_range = 0.2,\n",
    "                                   horizontal_flip = True)\n",
    "training_set = train_datagen.flow_from_directory('dataset/training_set',\n",
    "                                                 target_size = (64, 64),\n",
    "                                                 batch_size = 32,\n",
    "                                                 class_mode = 'binary')"
   ]
  },
  {
   "cell_type": "markdown",
   "id": "5f5be09f",
   "metadata": {},
   "source": [
    "# Preprocess the test set"
   ]
  },
  {
   "cell_type": "code",
   "execution_count": 4,
   "id": "31046611",
   "metadata": {},
   "outputs": [
    {
     "name": "stdout",
     "output_type": "stream",
     "text": [
      "Found 706 images belonging to 2 classes.\n"
     ]
    }
   ],
   "source": [
    "test_datagen = ImageDataGenerator(rescale = 1./255)\n",
    "test_set = test_datagen.flow_from_directory('dataset/test_set',\n",
    "                                            target_size = (64, 64),\n",
    "                                            batch_size = 32,\n",
    "                                            class_mode = 'binary')"
   ]
  },
  {
   "cell_type": "markdown",
   "id": "4a8f65d3",
   "metadata": {},
   "source": [
    "# Part 2 building the CNN"
   ]
  },
  {
   "cell_type": "markdown",
   "id": "b676ef90",
   "metadata": {},
   "source": [
    "## Initialize the CNN"
   ]
  },
  {
   "cell_type": "code",
   "execution_count": 5,
   "id": "c17d871a",
   "metadata": {},
   "outputs": [],
   "source": [
    "cnn=tf.keras.Sequential()"
   ]
  },
  {
   "cell_type": "markdown",
   "id": "94d18033",
   "metadata": {},
   "source": [
    "## Step one Convolution"
   ]
  },
  {
   "cell_type": "code",
   "execution_count": 6,
   "id": "f634fefa",
   "metadata": {},
   "outputs": [],
   "source": [
    "cnn.add(tf.keras.layers.Conv2D(filters=32,kernel_size=3,activation='relu',input_shape=[64,64,3]))"
   ]
  },
  {
   "cell_type": "markdown",
   "id": "dd8ab5c6",
   "metadata": {},
   "source": [
    "## Step 2 pooling"
   ]
  },
  {
   "cell_type": "code",
   "execution_count": 7,
   "id": "2e3807f5",
   "metadata": {},
   "outputs": [],
   "source": [
    "cnn.add(tf.keras.layers.MaxPool2D(pool_size=2,strides=2))"
   ]
  },
  {
   "cell_type": "markdown",
   "id": "65b5b63a",
   "metadata": {},
   "source": [
    "## Adding a second convolutional layer"
   ]
  },
  {
   "cell_type": "code",
   "execution_count": 8,
   "id": "27e5f8d9",
   "metadata": {},
   "outputs": [],
   "source": [
    "cnn.add(tf.keras.layers.Conv2D(filters=32,kernel_size=3,activation='relu'))\n",
    "cnn.add(tf.keras.layers.MaxPool2D(pool_size=2,strides=2))"
   ]
  },
  {
   "cell_type": "markdown",
   "id": "9801190b",
   "metadata": {},
   "source": [
    "## Step 3 flattening"
   ]
  },
  {
   "cell_type": "code",
   "execution_count": 9,
   "id": "3294aa5d",
   "metadata": {},
   "outputs": [],
   "source": [
    "cnn.add(tf.keras.layers.Flatten())"
   ]
  },
  {
   "cell_type": "markdown",
   "id": "fa59abea",
   "metadata": {},
   "source": [
    "## Step 4 - Full connection"
   ]
  },
  {
   "cell_type": "code",
   "execution_count": 10,
   "id": "2bbd9fce",
   "metadata": {},
   "outputs": [],
   "source": [
    "cnn.add(tf.keras.layers.Dense(units=128,activation='relu'))"
   ]
  },
  {
   "cell_type": "markdown",
   "id": "3175b3fe",
   "metadata": {},
   "source": [
    "## step 5 - Output layer"
   ]
  },
  {
   "cell_type": "code",
   "execution_count": 11,
   "id": "99240633",
   "metadata": {},
   "outputs": [],
   "source": [
    "cnn.add(tf.keras.layers.Dense(units=1,activation='sigmoid'))"
   ]
  },
  {
   "cell_type": "code",
   "execution_count": 12,
   "id": "077a9235",
   "metadata": {},
   "outputs": [
    {
     "name": "stdout",
     "output_type": "stream",
     "text": [
      "Model: \"sequential\"\n",
      "_________________________________________________________________\n",
      " Layer (type)                Output Shape              Param #   \n",
      "=================================================================\n",
      " conv2d (Conv2D)             (None, 62, 62, 32)        896       \n",
      "                                                                 \n",
      " max_pooling2d (MaxPooling2D  (None, 31, 31, 32)       0         \n",
      " )                                                               \n",
      "                                                                 \n",
      " conv2d_1 (Conv2D)           (None, 29, 29, 32)        9248      \n",
      "                                                                 \n",
      " max_pooling2d_1 (MaxPooling  (None, 14, 14, 32)       0         \n",
      " 2D)                                                             \n",
      "                                                                 \n",
      " flatten (Flatten)           (None, 6272)              0         \n",
      "                                                                 \n",
      " dense (Dense)               (None, 128)               802944    \n",
      "                                                                 \n",
      " dense_1 (Dense)             (None, 1)                 129       \n",
      "                                                                 \n",
      "=================================================================\n",
      "Total params: 813,217\n",
      "Trainable params: 813,217\n",
      "Non-trainable params: 0\n",
      "_________________________________________________________________\n"
     ]
    }
   ],
   "source": [
    "cnn.summary()"
   ]
  },
  {
   "cell_type": "markdown",
   "id": "c5401563",
   "metadata": {},
   "source": [
    "# Part 3 - Training the CNN"
   ]
  },
  {
   "cell_type": "markdown",
   "id": "f41959b4",
   "metadata": {},
   "source": [
    "## Compiling the CNN    (same than compiling the ann)"
   ]
  },
  {
   "cell_type": "code",
   "execution_count": 13,
   "id": "117bf3ce",
   "metadata": {},
   "outputs": [],
   "source": [
    "cnn.compile(optimizer='adam',loss='binary_crossentropy',metrics=['accuracy'])"
   ]
  },
  {
   "cell_type": "markdown",
   "id": "20615028",
   "metadata": {},
   "source": [
    "# Training the CNN  on the training set and evaluate on the test set"
   ]
  },
  {
   "cell_type": "code",
   "execution_count": 14,
   "id": "cf4c37af",
   "metadata": {
    "scrolled": true
   },
   "outputs": [
    {
     "name": "stdout",
     "output_type": "stream",
     "text": [
      "Epoch 1/25\n",
      "250/250 [==============================] - 59s 223ms/step - loss: 0.6611 - accuracy: 0.6019 - val_loss: 0.6788 - val_accuracy: 0.5496\n",
      "Epoch 2/25\n",
      "250/250 [==============================] - 64s 258ms/step - loss: 0.5981 - accuracy: 0.6876 - val_loss: 0.3142 - val_accuracy: 0.9150\n",
      "Epoch 3/25\n",
      "250/250 [==============================] - 69s 277ms/step - loss: 0.5442 - accuracy: 0.7204 - val_loss: 0.4185 - val_accuracy: 0.7989\n",
      "Epoch 4/25\n",
      "250/250 [==============================] - 68s 273ms/step - loss: 0.5066 - accuracy: 0.7471 - val_loss: 0.2604 - val_accuracy: 0.9178\n",
      "Epoch 5/25\n",
      "250/250 [==============================] - 63s 254ms/step - loss: 0.4886 - accuracy: 0.7607 - val_loss: 0.4617 - val_accuracy: 0.7847\n",
      "Epoch 6/25\n",
      "250/250 [==============================] - 64s 258ms/step - loss: 0.4654 - accuracy: 0.7731 - val_loss: 0.7020 - val_accuracy: 0.6204\n",
      "Epoch 7/25\n",
      "250/250 [==============================] - 64s 256ms/step - loss: 0.4462 - accuracy: 0.7894 - val_loss: 0.6978 - val_accuracy: 0.6303\n",
      "Epoch 8/25\n",
      "250/250 [==============================] - 61s 243ms/step - loss: 0.4450 - accuracy: 0.7952 - val_loss: 0.3797 - val_accuracy: 0.8343\n",
      "Epoch 9/25\n",
      "250/250 [==============================] - 62s 248ms/step - loss: 0.4262 - accuracy: 0.8037 - val_loss: 0.4780 - val_accuracy: 0.7762\n",
      "Epoch 10/25\n",
      "250/250 [==============================] - 56s 226ms/step - loss: 0.4064 - accuracy: 0.8126 - val_loss: 0.4741 - val_accuracy: 0.7847\n",
      "Epoch 11/25\n",
      "250/250 [==============================] - 54s 218ms/step - loss: 0.3998 - accuracy: 0.8179 - val_loss: 0.5330 - val_accuracy: 0.7479\n",
      "Epoch 12/25\n",
      "250/250 [==============================] - 60s 241ms/step - loss: 0.3699 - accuracy: 0.8284 - val_loss: 0.4574 - val_accuracy: 0.7960\n",
      "Epoch 13/25\n",
      "250/250 [==============================] - 60s 239ms/step - loss: 0.3593 - accuracy: 0.8385 - val_loss: 0.4743 - val_accuracy: 0.8116\n",
      "Epoch 14/25\n",
      "250/250 [==============================] - 61s 244ms/step - loss: 0.3473 - accuracy: 0.8497 - val_loss: 0.6492 - val_accuracy: 0.6983\n",
      "Epoch 15/25\n",
      "250/250 [==============================] - 60s 241ms/step - loss: 0.3363 - accuracy: 0.8560 - val_loss: 0.4010 - val_accuracy: 0.8357\n",
      "Epoch 16/25\n",
      "250/250 [==============================] - 56s 223ms/step - loss: 0.3135 - accuracy: 0.8662 - val_loss: 0.2833 - val_accuracy: 0.8909\n",
      "Epoch 17/25\n",
      "250/250 [==============================] - 54s 215ms/step - loss: 0.3043 - accuracy: 0.8715 - val_loss: 0.4690 - val_accuracy: 0.8229\n",
      "Epoch 18/25\n",
      "250/250 [==============================] - 66s 263ms/step - loss: 0.2954 - accuracy: 0.8709 - val_loss: 0.5389 - val_accuracy: 0.7762\n",
      "Epoch 19/25\n",
      "250/250 [==============================] - 59s 238ms/step - loss: 0.2763 - accuracy: 0.8799 - val_loss: 0.5142 - val_accuracy: 0.7932\n",
      "Epoch 20/25\n",
      "250/250 [==============================] - 53s 213ms/step - loss: 0.2583 - accuracy: 0.8938 - val_loss: 0.3857 - val_accuracy: 0.8470\n",
      "Epoch 21/25\n",
      "250/250 [==============================] - 51s 204ms/step - loss: 0.2460 - accuracy: 0.8991 - val_loss: 0.6332 - val_accuracy: 0.7720\n",
      "Epoch 22/25\n",
      "250/250 [==============================] - 51s 205ms/step - loss: 0.2319 - accuracy: 0.9076 - val_loss: 0.3562 - val_accuracy: 0.8683\n",
      "Epoch 23/25\n",
      "250/250 [==============================] - 50s 199ms/step - loss: 0.2100 - accuracy: 0.9169 - val_loss: 0.3473 - val_accuracy: 0.8754\n",
      "Epoch 24/25\n",
      "250/250 [==============================] - 50s 200ms/step - loss: 0.2012 - accuracy: 0.9172 - val_loss: 0.4494 - val_accuracy: 0.8612\n",
      "Epoch 25/25\n",
      "250/250 [==============================] - 51s 202ms/step - loss: 0.1978 - accuracy: 0.9199 - val_loss: 0.4856 - val_accuracy: 0.8272\n"
     ]
    },
    {
     "data": {
      "text/plain": [
       "<keras.callbacks.History at 0x209d4265d60>"
      ]
     },
     "execution_count": 14,
     "metadata": {},
     "output_type": "execute_result"
    }
   ],
   "source": [
    "cnn.fit(x=training_set,validation_data=test_set, epochs=25)"
   ]
  },
  {
   "cell_type": "markdown",
   "id": "c68a2c1f",
   "metadata": {},
   "source": [
    "## Evaluate the model"
   ]
  },
  {
   "cell_type": "code",
   "execution_count": 32,
   "id": "84b92ad5",
   "metadata": {},
   "outputs": [
    {
     "name": "stdout",
     "output_type": "stream",
     "text": [
      "23/23 [==============================] - 2s 97ms/step - loss: 0.4856 - accuracy: 0.8272\n",
      "Test Loss: 0.48558005690574646\n",
      "Test Accuracy: 0.8271954655647278\n"
     ]
    }
   ],
   "source": [
    "evaluation_res=cnn.evaluate(test_set)\n",
    "print(\"Test Loss:\", evaluation_res[0])\n",
    "print(\"Test Accuracy:\", evaluation_res[1])\n"
   ]
  },
  {
   "cell_type": "markdown",
   "id": "4e76794a",
   "metadata": {},
   "source": [
    "## Making a single prediction"
   ]
  },
  {
   "cell_type": "code",
   "execution_count": 21,
   "id": "4c97be85",
   "metadata": {},
   "outputs": [
    {
     "data": {
      "text/plain": [
       "{'cats': 0, 'dogs': 1}"
      ]
     },
     "execution_count": 21,
     "metadata": {},
     "output_type": "execute_result"
    }
   ],
   "source": [
    "#here we verify how the model has been trained, the result shows that 1 is dog and 0 is cat\n",
    "training_set.class_indices"
   ]
  },
  {
   "cell_type": "code",
   "execution_count": 22,
   "id": "e2ca9d57",
   "metadata": {},
   "outputs": [
    {
     "data": {
      "image/png": "[encoded data removed]",
      "text/plain": [
       "<PIL.Image.Image image mode=RGB size=64x64 at 0x209D95F39A0>"
      ]
     },
     "execution_count": 22,
     "metadata": {},
     "output_type": "execute_result"
    }
   ],
   "source": [
    "import numpy as np\n",
    "from tensorflow.keras.preprocessing import image\n",
    "test_image= image.load_img('dataset/cat_test_image.jpg', target_size=(64,64))\n",
    "test_image"
   ]
  },
  {
   "cell_type": "code",
   "execution_count": 23,
   "id": "5de7229a",
   "metadata": {},
   "outputs": [
    {
     "data": {
      "text/plain": [
       "array([[[ 44.,  45.,  47.],\n",
       "        [ 45.,  46.,  48.],\n",
       "        [ 45.,  46.,  48.],\n",
       "        ...,\n",
       "        [ 46.,  57.,  53.],\n",
       "        [ 46.,  57.,  53.],\n",
       "        [ 46.,  57.,  53.]],\n",
       "\n",
       "       [[ 43.,  44.,  46.],\n",
       "        [ 44.,  45.,  47.],\n",
       "        [ 45.,  46.,  48.],\n",
       "        ...,\n",
       "        [ 45.,  56.,  52.],\n",
       "        [ 45.,  56.,  52.],\n",
       "        [ 45.,  56.,  52.]],\n",
       "\n",
       "       [[ 42.,  43.,  45.],\n",
       "        [ 43.,  44.,  46.],\n",
       "        [ 44.,  45.,  47.],\n",
       "        ...,\n",
       "        [ 44.,  55.,  51.],\n",
       "        [ 44.,  55.,  51.],\n",
       "        [ 44.,  55.,  51.]],\n",
       "\n",
       "       ...,\n",
       "\n",
       "       [[ 23.,  24.,  26.],\n",
       "        [ 23.,  24.,  26.],\n",
       "        [ 23.,  24.,  26.],\n",
       "        ...,\n",
       "        [145., 133., 107.],\n",
       "        [126., 111.,  88.],\n",
       "        [136., 121.,  98.]],\n",
       "\n",
       "       [[ 17.,  18.,  20.],\n",
       "        [ 17.,  18.,  20.],\n",
       "        [ 17.,  18.,  20.],\n",
       "        ...,\n",
       "        [126., 110.,  85.],\n",
       "        [105.,  93.,  69.],\n",
       "        [116., 104.,  80.]],\n",
       "\n",
       "       [[ 14.,  15.,  17.],\n",
       "        [ 14.,  15.,  17.],\n",
       "        [ 14.,  15.,  17.],\n",
       "        ...,\n",
       "        [139., 123.,  98.],\n",
       "        [120., 108.,  84.],\n",
       "        [128., 116.,  92.]]], dtype=float32)"
      ]
     },
     "execution_count": 23,
     "metadata": {},
     "output_type": "execute_result"
    }
   ],
   "source": [
    "test_image=image.img_to_array(test_image)\n",
    "test_image"
   ]
  },
  {
   "cell_type": "code",
   "execution_count": 24,
   "id": "8b7d6c97",
   "metadata": {},
   "outputs": [
    {
     "name": "stdout",
     "output_type": "stream",
     "text": [
      "1/1 [==============================] - 0s 30ms/step\n"
     ]
    },
    {
     "data": {
      "text/plain": [
       "'cat'"
      ]
     },
     "execution_count": 24,
     "metadata": {},
     "output_type": "execute_result"
    }
   ],
   "source": [
    "test_image=np.expand_dims(test_image,axis=0)\n",
    "\n",
    "result=cnn.predict(test_image)\n",
    "if result[0][0]==1:      # you can skip to code[0][0] and it would work just the same\n",
    "    prediction='dog'\n",
    "else:\n",
    "    prediction='cat'\n",
    "    \n",
    "prediction"
   ]
  },
  {
   "cell_type": "code",
   "execution_count": null,
   "id": "f02c0504",
   "metadata": {},
   "outputs": [],
   "source": []
  }
 ],
 "metadata": {
  "kernelspec": {
   "display_name": "Python 3 (ipykernel)",
   "language": "python",
   "name": "python3"
  },
  "language_info": {
   "codemirror_mode": {
    "name": "ipython",
    "version": 3
   },
   "file_extension": ".py",
   "mimetype": "text/x-python",
   "name": "python",
   "nbconvert_exporter": "python",
   "pygments_lexer": "ipython3",
   "version": "3.9.12"
  }
 },
 "nbformat": 4,
 "nbformat_minor": 5
}
